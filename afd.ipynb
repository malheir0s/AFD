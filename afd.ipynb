{
 "cells": [
  {
   "cell_type": "code",
   "execution_count": null,
   "metadata": {},
   "outputs": [],
   "source": [
    "import java.util.HashMap;\n",
    "import java.util.HashSet;\n",
    "import java.util.Scanner;\n"
   ]
  },
  {
   "cell_type": "code",
   "execution_count": null,
   "metadata": {},
   "outputs": [],
   "source": [
    "\tpublic static void criarDicionario(String triple[], HashMap <String,String> dictionary) {\n",
    "\t\tfor(String a:triple) {\n",
    "\t\t\tString separar[] = a.split(\" \");\n",
    "\t\t\tdictionary.put(separar[0].concat(separar[1]), separar[2]);\n",
    "\t\t}\n",
    "\t}\n",
    "}"
   ]
  },
  {
   "cell_type": "code",
   "execution_count": null,
   "metadata": {},
   "outputs": [],
   "source": [
    "class Main {\n",
    "\n",
    "\tpublic static void main(String[] args) {\n",
    "\t\tString estados, simbolos, triplas[], estadoInicial, estadosFinais, palavrasTeste;\n",
    "\t\tint numTransicoes;\n",
    "\t\tScanner scan = new Scanner(System.in);\n",
    "\t\n",
    "\t\tHashMap <String,String> dicionario = new HashMap <String,String>();"
   ]
  },
  {
   "cell_type": "raw",
   "metadata": {},
   "source": [
    "O algoritmo possui um HashMap que contém uma chave, que consiste na dupla: Estado x Símbolo, e tem como valor associado o respectivo estado de transição. Este HashMap é o dicionario, que é criado pelo método criarDicionario."
   ]
  },
  {
   "cell_type": "code",
   "execution_count": null,
   "metadata": {},
   "outputs": [],
   "source": [
    "\t\n",
    "\t\t\n",
    "\t\testados = scan.nextLine();\n",
    "\t\tsimbolos = scan.nextLine();\n",
    "\t\tnumTransicoes = scan.nextInt(); scan.nextLine();\n",
    "\t\ttriplas ="
   ]
  },
  {
   "cell_type": "code",
   "execution_count": null,
   "metadata": {},
   "outputs": [],
   "source": [
    " new String[numTransicoes];\n",
    "\n",
    "\t\tfor (int i = 0; i < numTransicoes; i++) {\n",
    "\t\t\ttriplas[i] = scan.nextLine();\n",
    "\t\t}\n",
    "\t\t\n",
    "\t\testadoInicial = scan.nextLine();\n",
    "\t\testadosFinais = scan.nextLine();\n",
    "\t\t"
   ]
  },
  {
   "cell_type": "code",
   "execution_count": null,
   "metadata": {},
   "outputs": [],
   "source": [
    "\t\tHashSet <String> estadoF = new HashSet<String>();\n",
    "\t\tfor(String ef:estadosFinais.split(\" \")) {\n",
    "\t\t\testadoF.add(ef);\n",
    "\t\t}\n",
    "\t\t\n",
    "\t\tpalavrasTeste = scan.nextLine();\n",
    "\t\tString[] palavras = palavrasTeste.split(\" \");\n",
    "\t\tcriarDicionario (triplas, dicionario);\n",
    "\t\t"
   ]
  },
  {
   "cell_type": "raw",
   "metadata": {},
   "source": [
    "Após finalizar a leitura de todas as entradas, o conjunto dos estados finais é armazenado em um HashSet."
   ]
  },
  {
   "cell_type": "code",
   "execution_count": null,
   "metadata": {},
   "outputs": [],
   "source": [
    "\t\tfor(String percorrer: palavras ) {\n",
    "\t\t\tString estadoAtual = new String (estadoInicial);\n",
    "\t\t\tfor(String caracteres:percorrer.split(\"\")) {\n",
    "\n",
    "\t\t\t\tif(dicionario.containsKey(estadoAtual.concat(caracteres))){\n",
    "\t\t\t\t\testadoAtual = new String(dicionario.get(estadoAtual.concat(caracteres)));\n",
    "\t\t\t\t}\n",
    "\t\t\t\telse {\n",
    "\t\t\t\t\testadoAtual = new String(\"#erro##!!\");\n",
    "\t\t\t\t\tbreak;\n",
    "\t\t\t\t}\n",
    "\t\t\t}\n",
    "\t\t\tif(estadoF.contains(estadoAtual))\n",
    "\t\t\t\tSystem.out.println(\"S\");\n",
    "\t\t\telse\n",
    "\t\t\t\tSystem.out.println(\"N\");\n",
    "\t\t}\n",
    "\t\t\n",
    "\t}"
   ]
  },
  {
   "cell_type": "raw",
   "metadata": {},
   "source": [
    "O algoritmo realiza uma iteração para cada caractere da palavra recebida, tendo complexidade O(n), em que n é o tamanho da palavra. Para saber se a palavra possui transição (e qual o estado futuro), é feito uma consulta no HashMap, que tem como complexidade O(1).\n",
    "Quando chegar ao fim da palavra, o algoritmo fará uma consulta no HashSet de estadosFinais, cuja complexidade é O(1). Caso o estadoFinal da palavra esteja contido no HashSet, a palavra é aceita.\n",
    "\n",
    "Assim, o algoritmo tem complexidade O(n)."
   ]
  }
 ],
 "metadata": {
  "kernelspec": {
   "display_name": "Java",
   "language": "java",
   "name": "java"
  },
  "language_info": {
   "codemirror_mode": "java",
   "file_extension": ".jshell",
   "mimetype": "text/x-java-source",
   "name": "Java",
   "pygments_lexer": "java",
   "version": "11.0.3+7"
  }
 },
 "nbformat": 4,
 "nbformat_minor": 2
}
